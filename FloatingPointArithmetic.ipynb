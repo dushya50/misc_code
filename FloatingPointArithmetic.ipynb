{
 "cells": [
  {
   "cell_type": "code",
   "execution_count": null,
   "metadata": {},
   "outputs": [],
   "source": [
    "#1.) https://jvns.ca/blog/2023/01/13/examples-of-floating-point-problems/\n",
    "#2.) https://introcs.cs.princeton.edu/java/91float/\n",
    "#3.) https://float.exposed/0x48800000"
   ]
  },
  {
   "cell_type": "code",
   "execution_count": 6,
   "metadata": {},
   "outputs": [
    {
     "data": {
      "text/plain": [
       "(262144.0f0, 1.0e6)"
      ]
     },
     "execution_count": 6,
     "metadata": {},
     "output_type": "execute_result"
    }
   ],
   "source": [
    "#odometer from 1. \n",
    "#In Float32 the next floating number after 262144.0 is 262144.03125. So once the sum reaches \n",
    "#262144.0, the next iteration gives 262144.0 + 0.01 = 262144.0 which is the nearest float32 to \n",
    "#262144.01\n",
    "meters = Float32(0.0)\n",
    "iterations = 100000000\n",
    "for i in 1:iterations\n",
    "    meters+=Float32(0.01)\n",
    "end\n",
    "(meters, iterations*0.01)"
   ]
  },
  {
   "cell_type": "code",
   "execution_count": 12,
   "metadata": {},
   "outputs": [],
   "source": [
    "using Statistics"
   ]
  },
  {
   "cell_type": "code",
   "execution_count": 33,
   "metadata": {},
   "outputs": [
    {
     "data": {
      "text/plain": [
       "(209.7152, 0.00030105405589552576)"
      ]
     },
     "execution_count": 33,
     "metadata": {},
     "output_type": "execute_result"
    }
   ],
   "source": [
    "# Variance calculation error from 1. \n",
    "function calculate_bad_n_good_variance(nums)\n",
    "    sum_of_squares = 0.0\n",
    "    sum_of_nums = 0.0\n",
    "    N = length(nums)\n",
    "    for num in nums\n",
    "        sum_of_squares += num^2\n",
    "        sum_of_nums += num\n",
    "    end\n",
    "    mean = sum_of_nums / N\n",
    "    variance = (sum_of_squares - N * mean^2) / N\n",
    "    return variance, var(nums) # var function is from Statistics package to calculate variance\n",
    "end\n",
    "nums = 100000000.0 .+ (0.06*rand(100000)) #100000 uniform random numbers from 100000000 to 100000000.06 as in 1. \n",
    "calculate_bad_n_good_variance(nums)"
   ]
  },
  {
   "cell_type": "code",
   "execution_count": 34,
   "metadata": {},
   "outputs": [
    {
     "data": {
      "text/plain": [
       "10-element Vector{Float32}:\n",
       " 262144.0\n",
       " 262144.0\n",
       " 262144.0\n",
       " 262144.0\n",
       " 262144.0\n",
       " 262144.0\n",
       " 262144.0\n",
       " 262144.0\n",
       " 262144.0\n",
       " 262144.0"
      ]
     },
     "execution_count": 34,
     "metadata": {},
     "output_type": "execute_result"
    }
   ],
   "source": [
    "#this was supposed to give 10 uniform float32 random numbers in range 262144.0 to 262144.01. It doesn't.                  \n",
    "Float32(262144.0) .+ Float32(0.01)*rand(Float32,10)"
   ]
  },
  {
   "cell_type": "code",
   "execution_count": null,
   "metadata": {},
   "outputs": [],
   "source": []
  }
 ],
 "metadata": {
  "kernelspec": {
   "display_name": "Julia 1.8.2",
   "language": "julia",
   "name": "julia-1.8"
  },
  "language_info": {
   "file_extension": ".jl",
   "mimetype": "application/julia",
   "name": "julia",
   "version": "1.8.2"
  }
 },
 "nbformat": 4,
 "nbformat_minor": 4
}
